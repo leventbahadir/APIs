{
 "cells": [
  {
   "cell_type": "code",
   "execution_count": 7,
   "metadata": {},
   "outputs": [
    {
     "name": "stdout",
     "output_type": "stream",
     "text": [
      "✅ Weather data successfully inserted into SQL Server!\n"
     ]
    }
   ],
   "source": [
    "import requests\n",
    "import pyodbc\n",
    "import datetime\n",
    "\n",
    "# Open-Meteo API (No API Key Required)\n",
    "API_URL = \"https://api.open-meteo.com/v1/forecast?latitude=51.5074&longitude=-0.1278&current_weather=true\"\n",
    "\n",
    "# Fetch data from API\n",
    "response = requests.get(API_URL)\n",
    "data = response.json()\n",
    "\n",
    "# Extract required fields\n",
    "temperature = data[\"current_weather\"][\"temperature\"]\n",
    "windspeed = data[\"current_weather\"][\"windspeed\"]\n",
    "timestamp = datetime.datetime.now()\n",
    "\n",
    "# SQL Server Connection Settings (Windows Authentication)\n",
    "SERVER = \"LEVENT\\SQLEXPRESS\"  # Replace with your SQL Server name\n",
    "DATABASE = \"AdventureWorks2019\"\n",
    "\n",
    "# Connect to SQL Server using Windows Authentication\n",
    "conn = pyodbc.connect(f\"DRIVER={{SQL Server}};SERVER={SERVER};DATABASE={DATABASE};Trusted_Connection=yes;\")\n",
    "cursor = conn.cursor()\n",
    "\n",
    "# Create Table (if it doesn't exist)\n",
    "cursor.execute(\"\"\"\n",
    "    IF NOT EXISTS (SELECT * FROM sysobjects WHERE name='weather_data' AND xtype='U')\n",
    "    CREATE TABLE weather_data (\n",
    "        id INT IDENTITY(1,1) PRIMARY KEY,\n",
    "        temperature FLOAT,\n",
    "        windspeed FLOAT,\n",
    "        timestamp DATETIME\n",
    "    )\n",
    "\"\"\")\n",
    "conn.commit()\n",
    "\n",
    "# Insert data into SQL Server\n",
    "cursor.execute(\"INSERT INTO weather_data (temperature, windspeed, timestamp) VALUES (?, ?, ?)\",\n",
    "               temperature, windspeed, timestamp)\n",
    "\n",
    "# Commit transaction and close connection\n",
    "conn.commit()\n",
    "cursor.close()\n",
    "conn.close()\n",
    "\n",
    "print(\"✅ Weather data successfully inserted into SQL Server!\")"
   ]
  },
  {
   "cell_type": "code",
   "execution_count": 4,
   "metadata": {},
   "outputs": [
    {
     "name": "stdout",
     "output_type": "stream",
     "text": [
      "✅ Data inserted at 2025-03-04 21:40:35.815139: Temp=4.5°C, Wind=4.1 km/h, Gusts=0, Precip=0mm, Pressure=1013hPa, Humidity=50%\n",
      "✅ Data inserted at 2025-03-04 21:40:39.515587: Temp=4.5°C, Wind=4.1 km/h, Gusts=0, Precip=0mm, Pressure=1013hPa, Humidity=50%\n",
      "✅ Data inserted at 2025-03-04 21:40:43.203618: Temp=4.5°C, Wind=4.1 km/h, Gusts=0, Precip=0mm, Pressure=1013hPa, Humidity=50%\n",
      "✅ Data inserted at 2025-03-04 21:40:46.881767: Temp=4.5°C, Wind=4.1 km/h, Gusts=0, Precip=0mm, Pressure=1013hPa, Humidity=50%\n",
      "✅ Data inserted at 2025-03-04 21:40:50.558292: Temp=4.5°C, Wind=4.1 km/h, Gusts=0, Precip=0mm, Pressure=1013hPa, Humidity=50%\n"
     ]
    }
   ],
   "source": [
    "import requests\n",
    "import pyodbc\n",
    "import datetime\n",
    "import time\n",
    "\n",
    "# Open-Meteo API (No API Key Required) with Additional Fields\n",
    "API_URL = \"https://api.open-meteo.com/v1/forecast?latitude=51.5074&longitude=-0.1278&current_weather=true\"\n",
    "\n",
    "# SQL Server Connection Settings (Windows Authentication)\n",
    "SERVER = \"LEVENT\\SQLEXPRESS\"  # Replace with your SQL Server name\n",
    "DATABASE = \"AdventureWorks2019\"\n",
    "\n",
    "# Connect to SQL Server\n",
    "conn = pyodbc.connect(f\"DRIVER={{SQL Server}};SERVER={SERVER};DATABASE={DATABASE};Trusted_Connection=yes;\")\n",
    "cursor = conn.cursor()\n",
    "\n",
    "# Create Table (if it doesn't exist)\n",
    "counter = 0\n",
    "\n",
    "max_iterations = 5\n",
    "\n",
    "# Run indefinitely (or set a limit)\n",
    "while counter < max_iterations:\n",
    "    # Fetch data from API\n",
    "    response = requests.get(API_URL)\n",
    "    data = response.json()\n",
    "\n",
    "    # Extract required fields\n",
    "    temperature = data[\"current_weather\"][\"temperature\"]\n",
    "    windspeed = data[\"current_weather\"][\"windspeed\"]\n",
    "    wind_gusts = data[\"current_weather\"].get(\"windgusts\", 0)  # Some fields may be missing\n",
    "    precipitation = data[\"current_weather\"].get(\"precipitation\", 0)\n",
    "    pressure = data[\"current_weather\"].get(\"pressure\", 1013)\n",
    "    humidity = data[\"current_weather\"].get(\"humidity\", 50)\n",
    "    timestamp = datetime.datetime.now()\n",
    "\n",
    "    # Insert new row into SQL Server\n",
    "    cursor.execute(\"INSERT INTO weather_data (temperature, windspeed, wind_gusts, precipitation, pressure, humidity, timestamp) VALUES (?, ?, ?, ?, ?, ?, ?)\",\n",
    "                   temperature, windspeed, wind_gusts, precipitation, pressure, humidity, timestamp)\n",
    "\n",
    "    conn.commit()\n",
    "    print(f\"✅ Data inserted at {timestamp}: Temp={temperature}°C, Wind={windspeed} km/h, Gusts={wind_gusts}, Precip={precipitation}mm, Pressure={pressure}hPa, Humidity={humidity}%\")\n",
    "\n",
    "    # Wait 5 minutes before the next request\n",
    "    time.sleep(3)  # 300 seconds = 5 minutes\n",
    "    counter += 1\n"
   ]
  }
 ],
 "metadata": {
  "kernelspec": {
   "display_name": "base",
   "language": "python",
   "name": "python3"
  },
  "language_info": {
   "codemirror_mode": {
    "name": "ipython",
    "version": 3
   },
   "file_extension": ".py",
   "mimetype": "text/x-python",
   "name": "python",
   "nbconvert_exporter": "python",
   "pygments_lexer": "ipython3",
   "version": "3.11.7"
  }
 },
 "nbformat": 4,
 "nbformat_minor": 2
}
